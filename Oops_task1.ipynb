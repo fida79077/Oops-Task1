{
  "nbformat": 4,
  "nbformat_minor": 0,
  "metadata": {
    "colab": {
      "provenance": []
    },
    "kernelspec": {
      "name": "python3",
      "display_name": "Python 3"
    },
    "language_info": {
      "name": "python"
    }
  },
  "cells": [
    {
      "cell_type": "code",
      "execution_count": null,
      "metadata": {
        "id": "khoLKgYd6PCQ"
      },
      "outputs": [],
      "source": []
    },
    {
      "cell_type": "code",
      "source": [
        "class House:\n",
        "  def home(self,name,color,floor_material,roof_color):\n",
        "    name = input('enter the name ')\n",
        "    color = input('enter the color ')\n",
        "    floor_material =input ('enter the floor_material ')\n",
        "    roof_color = input('enter the roof_color ')\n",
        "\n",
        "    self.name = name\n",
        "    self.color = color\n",
        "    self.floor_material = floor_material\n",
        "    self.roof_color = roof_color\n",
        "\n",
        "  def myhome(self):\n",
        "    print(\"person name is %s color is %s floor_material is %s roof_color is %s\"%(self.name,self.color,self.floor_material,self.roof_color))\n",
        "\n",
        "n = int(input('how many person detaild you want to enter : '))\n",
        "for i in range(n):\n",
        "  raju = House()\n",
        "\n",
        "  raju.home('arifa','green','granite','blue')\n",
        "\n",
        "  raju.myhome()"
      ],
      "metadata": {
        "colab": {
          "base_uri": "https://localhost:8080/"
        },
        "id": "HcQhbs4do26V",
        "outputId": "bc4534b6-f819-43cf-83d8-32488db7f856"
      },
      "execution_count": null,
      "outputs": [
        {
          "output_type": "stream",
          "name": "stdout",
          "text": [
            "how many person detaild you want to enter : 3\n",
            "enter the name fida\n",
            "enter the color blue\n",
            "enter the floor_material tile\n",
            "enter the roof_color green\n",
            "person name is fida color is blue floor_material is tile roof_color is green\n",
            "enter the name taj\n",
            "enter the color red\n",
            "enter the floor_material marble\n",
            "enter the roof_color pink\n",
            "person name is taj color is red floor_material is marble roof_color is pink\n",
            "enter the name arifa\n",
            "enter the color blue\n",
            "enter the floor_material tile\n",
            "enter the roof_color yellow\n",
            "person name is arifa color is blue floor_material is tile roof_color is yellow\n"
          ]
        }
      ]
    }
  ]
}